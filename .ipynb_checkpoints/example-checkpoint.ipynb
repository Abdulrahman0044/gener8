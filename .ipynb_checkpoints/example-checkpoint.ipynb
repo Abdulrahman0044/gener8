{
 "cells": [
  {
   "cell_type": "code",
   "execution_count": 1,
   "id": "9dc3ed46",
   "metadata": {},
   "outputs": [
    {
     "ename": "ModuleNotFoundError",
     "evalue": "No module named 'gener8'",
     "output_type": "error",
     "traceback": [
      "\u001b[31m---------------------------------------------------------------------------\u001b[39m",
      "\u001b[31mModuleNotFoundError\u001b[39m                       Traceback (most recent call last)",
      "\u001b[36mCell\u001b[39m\u001b[36m \u001b[39m\u001b[32mIn[1]\u001b[39m\u001b[32m, line 3\u001b[39m\n\u001b[32m      1\u001b[39m \u001b[38;5;28;01mimport\u001b[39;00m\u001b[38;5;250m \u001b[39m\u001b[34;01mpandas\u001b[39;00m\u001b[38;5;250m \u001b[39m\u001b[38;5;28;01mas\u001b[39;00m\u001b[38;5;250m \u001b[39m\u001b[34;01mpd\u001b[39;00m\n\u001b[32m      2\u001b[39m \u001b[38;5;28;01mimport\u001b[39;00m\u001b[38;5;250m \u001b[39m\u001b[34;01mnumpy\u001b[39;00m\u001b[38;5;250m \u001b[39m\u001b[38;5;28;01mas\u001b[39;00m\u001b[38;5;250m \u001b[39m\u001b[34;01mnp\u001b[39;00m\n\u001b[32m----> \u001b[39m\u001b[32m3\u001b[39m \u001b[38;5;28;01mfrom\u001b[39;00m\u001b[38;5;250m \u001b[39m\u001b[34;01mgener8\u001b[39;00m\u001b[38;5;250m \u001b[39m\u001b[38;5;28;01mimport\u001b[39;00m Gener8Engine\n\u001b[32m      5\u001b[39m \u001b[38;5;66;03m# Initialize the engine\u001b[39;00m\n\u001b[32m      6\u001b[39m engine = Gener8Engine()\n",
      "\u001b[31mModuleNotFoundError\u001b[39m: No module named 'gener8'"
     ]
    }
   ],
   "source": [
    "import pandas as pd\n",
    "import numpy as np\n",
    "from gener8 import Gener8Engine\n",
    "\n",
    "# Initialize the engine\n",
    "engine = Gener8Engine()\n",
    "\n",
    "# Create sample data\n",
    "data = pd.DataFrame({\n",
    "    'age': np.random.normal(30, 10, 1000),\n",
    "    'income': np.random.normal(50000, 10000, 1000),\n",
    "    'category': np.random.choice(['A', 'B', 'C'], 1000)\n",
    "})\n",
    "\n",
    "# Load and train the model\n",
    "engine.load_and_train(data, n_components=3)\n",
    "\n",
    "# Generate synthetic data\n",
    "synthetic_data = engine.generate(100)\n",
    "print(synthetic_data.head())"
   ]
  }
 ],
 "metadata": {
  "kernelspec": {
   "display_name": "py312",
   "language": "python",
   "name": "python3"
  },
  "language_info": {
   "codemirror_mode": {
    "name": "ipython",
    "version": 3
   },
   "file_extension": ".py",
   "mimetype": "text/x-python",
   "name": "python",
   "nbconvert_exporter": "python",
   "pygments_lexer": "ipython3",
   "version": "3.12.7"
  }
 },
 "nbformat": 4,
 "nbformat_minor": 5
}
